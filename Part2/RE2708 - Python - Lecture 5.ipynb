{
 "cells": [
  {
   "cell_type": "markdown",
   "metadata": {
    "slideshow": {
     "slide_type": "slide"
    }
   },
   "source": [
    "<img align=left src=\"Data/NUSlogo.png\" width=125>\n",
    "<br><br>\n",
    "\n",
    "# RE2708 Lecture 5\n",
    "\n",
    "## Working online\n",
    "\n",
    "Dr. Cristian Badarinza"
   ]
  },
  {
   "cell_type": "markdown",
   "metadata": {
    "slideshow": {
     "slide_type": "slide"
    }
   },
   "source": [
    "## Structure of this Lecture\n",
    "\n",
    "1.\tSome additional functions for data cleaning\n",
    "2.\tThe **requests** library\n",
    "3.\tThree examples of web scraping\n",
    "4.\tGoogle Colab\n"
   ]
  },
  {
   "cell_type": "markdown",
   "metadata": {
    "slideshow": {
     "slide_type": "slide"
    }
   },
   "source": [
    "## 1. Some additional functions for data cleaning"
   ]
  },
  {
   "cell_type": "code",
   "execution_count": 1,
   "metadata": {},
   "outputs": [],
   "source": [
    "import pandas as pd"
   ]
  },
  {
   "cell_type": "markdown",
   "metadata": {},
   "source": [
    "Let's start by downloading a data set from data.gov.sg into our ***Data*** folder.\n",
    "\n",
    "*median-rent-by-town-and-flat-type.csv* \n",
    "\n",
    "(Source:https://data.gov.sg/dataset/median-rent-by-town-and-flat-type)"
   ]
  },
  {
   "cell_type": "markdown",
   "metadata": {
    "slideshow": {
     "slide_type": "subslide"
    }
   },
   "source": [
    "### Making sure the data is of a numeric type:"
   ]
  },
  {
   "cell_type": "markdown",
   "metadata": {},
   "source": [
    "The first data set that we analyze contains the median rent by town and flat type:"
   ]
  },
  {
   "cell_type": "code",
   "execution_count": 2,
   "metadata": {
    "scrolled": true
   },
   "outputs": [
    {
     "data": {
      "text/html": [
       "<div>\n",
       "<style scoped>\n",
       "    .dataframe tbody tr th:only-of-type {\n",
       "        vertical-align: middle;\n",
       "    }\n",
       "\n",
       "    .dataframe tbody tr th {\n",
       "        vertical-align: top;\n",
       "    }\n",
       "\n",
       "    .dataframe thead th {\n",
       "        text-align: right;\n",
       "    }\n",
       "</style>\n",
       "<table border=\"1\" class=\"dataframe\">\n",
       "  <thead>\n",
       "    <tr style=\"text-align: right;\">\n",
       "      <th></th>\n",
       "      <th>quarter</th>\n",
       "      <th>town</th>\n",
       "      <th>flat_type</th>\n",
       "      <th>median_rent</th>\n",
       "    </tr>\n",
       "  </thead>\n",
       "  <tbody>\n",
       "    <tr>\n",
       "      <th>0</th>\n",
       "      <td>2005-04-01</td>\n",
       "      <td>ANG MO KIO</td>\n",
       "      <td>1-RM</td>\n",
       "      <td>na</td>\n",
       "    </tr>\n",
       "    <tr>\n",
       "      <th>1</th>\n",
       "      <td>2005-04-01</td>\n",
       "      <td>ANG MO KIO</td>\n",
       "      <td>2-RM</td>\n",
       "      <td>na</td>\n",
       "    </tr>\n",
       "    <tr>\n",
       "      <th>2</th>\n",
       "      <td>2005-04-01</td>\n",
       "      <td>ANG MO KIO</td>\n",
       "      <td>3-RM</td>\n",
       "      <td>800</td>\n",
       "    </tr>\n",
       "    <tr>\n",
       "      <th>3</th>\n",
       "      <td>2005-04-01</td>\n",
       "      <td>ANG MO KIO</td>\n",
       "      <td>4-RM</td>\n",
       "      <td>950</td>\n",
       "    </tr>\n",
       "    <tr>\n",
       "      <th>4</th>\n",
       "      <td>2005-04-01</td>\n",
       "      <td>ANG MO KIO</td>\n",
       "      <td>5-RM</td>\n",
       "      <td>-</td>\n",
       "    </tr>\n",
       "  </tbody>\n",
       "</table>\n",
       "</div>"
      ],
      "text/plain": [
       "     quarter        town flat_type                 median_rent\n",
       "0 2005-04-01  ANG MO KIO      1-RM  na                        \n",
       "1 2005-04-01  ANG MO KIO      2-RM  na                        \n",
       "2 2005-04-01  ANG MO KIO      3-RM                         800\n",
       "3 2005-04-01  ANG MO KIO      4-RM                         950\n",
       "4 2005-04-01  ANG MO KIO      5-RM  -                         "
      ]
     },
     "execution_count": 2,
     "metadata": {},
     "output_type": "execute_result"
    }
   ],
   "source": [
    "df = pd.read_csv('Data/median-rent-by-town-and-flat-type.csv', parse_dates = ['quarter'])\n",
    "df.head()"
   ]
  },
  {
   "cell_type": "markdown",
   "metadata": {},
   "source": [
    "Note that the column **median_rent** should be a number, but PANDAS reads it as text. "
   ]
  },
  {
   "cell_type": "markdown",
   "metadata": {
    "slideshow": {
     "slide_type": "subslide"
    }
   },
   "source": [
    "Therefore, we need to transform this into a numeric type, using the function `to_numeric`:"
   ]
  },
  {
   "cell_type": "code",
   "execution_count": 3,
   "metadata": {},
   "outputs": [
    {
     "data": {
      "text/html": [
       "<div>\n",
       "<style scoped>\n",
       "    .dataframe tbody tr th:only-of-type {\n",
       "        vertical-align: middle;\n",
       "    }\n",
       "\n",
       "    .dataframe tbody tr th {\n",
       "        vertical-align: top;\n",
       "    }\n",
       "\n",
       "    .dataframe thead th {\n",
       "        text-align: right;\n",
       "    }\n",
       "</style>\n",
       "<table border=\"1\" class=\"dataframe\">\n",
       "  <thead>\n",
       "    <tr style=\"text-align: right;\">\n",
       "      <th></th>\n",
       "      <th>quarter</th>\n",
       "      <th>town</th>\n",
       "      <th>flat_type</th>\n",
       "      <th>median_rent</th>\n",
       "    </tr>\n",
       "  </thead>\n",
       "  <tbody>\n",
       "    <tr>\n",
       "      <th>0</th>\n",
       "      <td>2005-04-01</td>\n",
       "      <td>ANG MO KIO</td>\n",
       "      <td>1-RM</td>\n",
       "      <td>NaN</td>\n",
       "    </tr>\n",
       "    <tr>\n",
       "      <th>1</th>\n",
       "      <td>2005-04-01</td>\n",
       "      <td>ANG MO KIO</td>\n",
       "      <td>2-RM</td>\n",
       "      <td>NaN</td>\n",
       "    </tr>\n",
       "    <tr>\n",
       "      <th>2</th>\n",
       "      <td>2005-04-01</td>\n",
       "      <td>ANG MO KIO</td>\n",
       "      <td>3-RM</td>\n",
       "      <td>800.0</td>\n",
       "    </tr>\n",
       "    <tr>\n",
       "      <th>3</th>\n",
       "      <td>2005-04-01</td>\n",
       "      <td>ANG MO KIO</td>\n",
       "      <td>4-RM</td>\n",
       "      <td>950.0</td>\n",
       "    </tr>\n",
       "    <tr>\n",
       "      <th>4</th>\n",
       "      <td>2005-04-01</td>\n",
       "      <td>ANG MO KIO</td>\n",
       "      <td>5-RM</td>\n",
       "      <td>NaN</td>\n",
       "    </tr>\n",
       "  </tbody>\n",
       "</table>\n",
       "</div>"
      ],
      "text/plain": [
       "     quarter        town flat_type  median_rent\n",
       "0 2005-04-01  ANG MO KIO      1-RM          NaN\n",
       "1 2005-04-01  ANG MO KIO      2-RM          NaN\n",
       "2 2005-04-01  ANG MO KIO      3-RM        800.0\n",
       "3 2005-04-01  ANG MO KIO      4-RM        950.0\n",
       "4 2005-04-01  ANG MO KIO      5-RM          NaN"
      ]
     },
     "execution_count": 3,
     "metadata": {},
     "output_type": "execute_result"
    }
   ],
   "source": [
    "df['median_rent'] = pd.to_numeric(df['median_rent'], errors = 'coerce')\n",
    "df.head()"
   ]
  },
  {
   "cell_type": "markdown",
   "metadata": {
    "slideshow": {
     "slide_type": "subslide"
    }
   },
   "source": [
    "### Renaming columns"
   ]
  },
  {
   "cell_type": "code",
   "execution_count": 4,
   "metadata": {},
   "outputs": [
    {
     "data": {
      "text/html": [
       "<div>\n",
       "<style scoped>\n",
       "    .dataframe tbody tr th:only-of-type {\n",
       "        vertical-align: middle;\n",
       "    }\n",
       "\n",
       "    .dataframe tbody tr th {\n",
       "        vertical-align: top;\n",
       "    }\n",
       "\n",
       "    .dataframe thead th {\n",
       "        text-align: right;\n",
       "    }\n",
       "</style>\n",
       "<table border=\"1\" class=\"dataframe\">\n",
       "  <thead>\n",
       "    <tr style=\"text-align: right;\">\n",
       "      <th></th>\n",
       "      <th>Quarter</th>\n",
       "      <th>Planning area</th>\n",
       "      <th>Flat type</th>\n",
       "      <th>Median Rent</th>\n",
       "    </tr>\n",
       "  </thead>\n",
       "  <tbody>\n",
       "    <tr>\n",
       "      <th>0</th>\n",
       "      <td>2005-04-01</td>\n",
       "      <td>ANG MO KIO</td>\n",
       "      <td>1-RM</td>\n",
       "      <td>NaN</td>\n",
       "    </tr>\n",
       "    <tr>\n",
       "      <th>1</th>\n",
       "      <td>2005-04-01</td>\n",
       "      <td>ANG MO KIO</td>\n",
       "      <td>2-RM</td>\n",
       "      <td>NaN</td>\n",
       "    </tr>\n",
       "    <tr>\n",
       "      <th>2</th>\n",
       "      <td>2005-04-01</td>\n",
       "      <td>ANG MO KIO</td>\n",
       "      <td>3-RM</td>\n",
       "      <td>800.0</td>\n",
       "    </tr>\n",
       "    <tr>\n",
       "      <th>3</th>\n",
       "      <td>2005-04-01</td>\n",
       "      <td>ANG MO KIO</td>\n",
       "      <td>4-RM</td>\n",
       "      <td>950.0</td>\n",
       "    </tr>\n",
       "    <tr>\n",
       "      <th>4</th>\n",
       "      <td>2005-04-01</td>\n",
       "      <td>ANG MO KIO</td>\n",
       "      <td>5-RM</td>\n",
       "      <td>NaN</td>\n",
       "    </tr>\n",
       "  </tbody>\n",
       "</table>\n",
       "</div>"
      ],
      "text/plain": [
       "     Quarter Planning area Flat type  Median Rent\n",
       "0 2005-04-01    ANG MO KIO      1-RM          NaN\n",
       "1 2005-04-01    ANG MO KIO      2-RM          NaN\n",
       "2 2005-04-01    ANG MO KIO      3-RM        800.0\n",
       "3 2005-04-01    ANG MO KIO      4-RM        950.0\n",
       "4 2005-04-01    ANG MO KIO      5-RM          NaN"
      ]
     },
     "execution_count": 4,
     "metadata": {},
     "output_type": "execute_result"
    }
   ],
   "source": [
    "df.columns = ['Quarter', 'Planning area', 'Flat type', 'Median Rent']\n",
    "df.head()"
   ]
  },
  {
   "cell_type": "markdown",
   "metadata": {
    "slideshow": {
     "slide_type": "slide"
    }
   },
   "source": [
    "## 2. The **requests** library"
   ]
  },
  {
   "cell_type": "markdown",
   "metadata": {},
   "source": [
    "The **requests** library allows us to read information directly from any website that is available online."
   ]
  },
  {
   "cell_type": "code",
   "execution_count": 5,
   "metadata": {},
   "outputs": [],
   "source": [
    "import requests"
   ]
  },
  {
   "cell_type": "markdown",
   "metadata": {
    "slideshow": {
     "slide_type": "slide"
    }
   },
   "source": [
    "## 3. Three examples of web scraping"
   ]
  },
  {
   "cell_type": "markdown",
   "metadata": {},
   "source": [
    "### Data on buyer's stamp duty"
   ]
  },
  {
   "cell_type": "code",
   "execution_count": 6,
   "metadata": {},
   "outputs": [
    {
     "data": {
      "text/html": [
       "<div>\n",
       "<style scoped>\n",
       "    .dataframe tbody tr th:only-of-type {\n",
       "        vertical-align: middle;\n",
       "    }\n",
       "\n",
       "    .dataframe tbody tr th {\n",
       "        vertical-align: top;\n",
       "    }\n",
       "\n",
       "    .dataframe thead tr th {\n",
       "        text-align: left;\n",
       "    }\n",
       "</style>\n",
       "<table border=\"1\" class=\"dataframe\">\n",
       "  <thead>\n",
       "    <tr>\n",
       "      <th></th>\n",
       "      <th colspan=\"2\" halign=\"left\">Before 20 Feb 2018</th>\n",
       "    </tr>\n",
       "    <tr>\n",
       "      <th></th>\n",
       "      <th>Purchase Price or Market Value of the Property</th>\n",
       "      <th>BSD Rates</th>\n",
       "    </tr>\n",
       "  </thead>\n",
       "  <tbody>\n",
       "    <tr>\n",
       "      <th>0</th>\n",
       "      <td>First $180,000</td>\n",
       "      <td>1%</td>\n",
       "    </tr>\n",
       "    <tr>\n",
       "      <th>1</th>\n",
       "      <td>Next $180,000</td>\n",
       "      <td>2%</td>\n",
       "    </tr>\n",
       "    <tr>\n",
       "      <th>2</th>\n",
       "      <td>Remaining Amount</td>\n",
       "      <td>3%</td>\n",
       "    </tr>\n",
       "  </tbody>\n",
       "</table>\n",
       "</div>"
      ],
      "text/plain": [
       "                              Before 20 Feb 2018          \n",
       "  Purchase Price or Market Value of the Property BSD Rates\n",
       "0                                 First $180,000        1%\n",
       "1                                  Next $180,000        2%\n",
       "2                               Remaining Amount        3%"
      ]
     },
     "execution_count": 6,
     "metadata": {},
     "output_type": "execute_result"
    }
   ],
   "source": [
    "# Reading from the online source\n",
    "df = pd.read_html(requests.get('https://www.iras.gov.sg/taxes/stamp-duty/for-property/buying-or-acquiring-property/buyer%27s-stamp-duty-(bsd)').text)\n",
    "\n",
    "# Selecting the right data frame\n",
    "df = df[0]\n",
    "\n",
    "# Viewing the data frame\n",
    "df.head()"
   ]
  },
  {
   "cell_type": "markdown",
   "metadata": {
    "slideshow": {
     "slide_type": "subslide"
    }
   },
   "source": [
    "### Data on the world's highest buildings"
   ]
  },
  {
   "cell_type": "code",
   "execution_count": 7,
   "metadata": {},
   "outputs": [
    {
     "data": {
      "text/html": [
       "<div>\n",
       "<style scoped>\n",
       "    .dataframe tbody tr th:only-of-type {\n",
       "        vertical-align: middle;\n",
       "    }\n",
       "\n",
       "    .dataframe tbody tr th {\n",
       "        vertical-align: top;\n",
       "    }\n",
       "\n",
       "    .dataframe thead th {\n",
       "        text-align: right;\n",
       "    }\n",
       "</style>\n",
       "<table border=\"1\" class=\"dataframe\">\n",
       "  <thead>\n",
       "    <tr style=\"text-align: right;\">\n",
       "      <th></th>\n",
       "      <th>Rank</th>\n",
       "      <th>Name</th>\n",
       "      <th>City</th>\n",
       "      <th>Status</th>\n",
       "      <th>Completion</th>\n",
       "      <th>Height</th>\n",
       "      <th>Floors</th>\n",
       "      <th>Material</th>\n",
       "      <th>Function</th>\n",
       "    </tr>\n",
       "  </thead>\n",
       "  <tbody>\n",
       "    <tr>\n",
       "      <th>0</th>\n",
       "      <td>1</td>\n",
       "      <td>Burj Khalifa</td>\n",
       "      <td>Dubai</td>\n",
       "      <td>NaN</td>\n",
       "      <td>2010</td>\n",
       "      <td>828 m  /  2,717 ft</td>\n",
       "      <td>163</td>\n",
       "      <td>Steel Over Concrete</td>\n",
       "      <td>office / residential / hotel</td>\n",
       "    </tr>\n",
       "    <tr>\n",
       "      <th>1</th>\n",
       "      <td>2</td>\n",
       "      <td>Shanghai Tower</td>\n",
       "      <td>Shanghai</td>\n",
       "      <td>NaN</td>\n",
       "      <td>2015</td>\n",
       "      <td>632 m  /  2,073 ft</td>\n",
       "      <td>128</td>\n",
       "      <td>Concrete-Steel Composite</td>\n",
       "      <td>hotel / office</td>\n",
       "    </tr>\n",
       "    <tr>\n",
       "      <th>2</th>\n",
       "      <td>3</td>\n",
       "      <td>Makkah Royal Clock Tower</td>\n",
       "      <td>Mecca</td>\n",
       "      <td>NaN</td>\n",
       "      <td>2012</td>\n",
       "      <td>601 m  /  1,972 ft</td>\n",
       "      <td>120</td>\n",
       "      <td>Steel Over Concrete</td>\n",
       "      <td>serviced apartments / hotel / retail</td>\n",
       "    </tr>\n",
       "    <tr>\n",
       "      <th>3</th>\n",
       "      <td>4</td>\n",
       "      <td>Ping An Finance Center</td>\n",
       "      <td>Shenzhen</td>\n",
       "      <td>NaN</td>\n",
       "      <td>2017</td>\n",
       "      <td>599.1 m  /  1,965 ft</td>\n",
       "      <td>115</td>\n",
       "      <td>Concrete-Steel Composite</td>\n",
       "      <td>office</td>\n",
       "    </tr>\n",
       "    <tr>\n",
       "      <th>4</th>\n",
       "      <td>5</td>\n",
       "      <td>Lotte World Tower</td>\n",
       "      <td>Seoul</td>\n",
       "      <td>NaN</td>\n",
       "      <td>2017</td>\n",
       "      <td>554.5 m  /  1,819 ft</td>\n",
       "      <td>123</td>\n",
       "      <td>Concrete-Steel Composite</td>\n",
       "      <td>hotel / residential / office / retail</td>\n",
       "    </tr>\n",
       "  </tbody>\n",
       "</table>\n",
       "</div>"
      ],
      "text/plain": [
       "   Rank                      Name      City  Status  Completion  \\\n",
       "0     1              Burj Khalifa     Dubai     NaN        2010   \n",
       "1     2            Shanghai Tower  Shanghai     NaN        2015   \n",
       "2     3  Makkah Royal Clock Tower     Mecca     NaN        2012   \n",
       "3     4    Ping An Finance Center  Shenzhen     NaN        2017   \n",
       "4     5         Lotte World Tower     Seoul     NaN        2017   \n",
       "\n",
       "                 Height  Floors                  Material  \\\n",
       "0    828 m  /  2,717 ft     163       Steel Over Concrete   \n",
       "1    632 m  /  2,073 ft     128  Concrete-Steel Composite   \n",
       "2    601 m  /  1,972 ft     120       Steel Over Concrete   \n",
       "3  599.1 m  /  1,965 ft     115  Concrete-Steel Composite   \n",
       "4  554.5 m  /  1,819 ft     123  Concrete-Steel Composite   \n",
       "\n",
       "                                Function  \n",
       "0           office / residential / hotel  \n",
       "1                         hotel / office  \n",
       "2   serviced apartments / hotel / retail  \n",
       "3                                 office  \n",
       "4  hotel / residential / office / retail  "
      ]
     },
     "execution_count": 7,
     "metadata": {},
     "output_type": "execute_result"
    }
   ],
   "source": [
    "# Reading from the online source\n",
    "df = pd.read_html(requests.get('https://www.skyscrapercenter.com/buildings').text)\n",
    "\n",
    "# Selecting the right data frame\n",
    "df = df[0]\n",
    "\n",
    "# Renaming columns\n",
    "df.columns = ['Rank', 'Name', 'City', 'Status', 'Completion', 'Height', 'Floors', 'Material', 'Function']\n",
    "\n",
    "# Viewing the data\n",
    "df.head()"
   ]
  },
  {
   "cell_type": "markdown",
   "metadata": {
    "slideshow": {
     "slide_type": "subslide"
    }
   },
   "source": [
    "### Data on protected green areas"
   ]
  },
  {
   "cell_type": "code",
   "execution_count": 8,
   "metadata": {},
   "outputs": [
    {
     "data": {
      "text/html": [
       "<div>\n",
       "<style scoped>\n",
       "    .dataframe tbody tr th:only-of-type {\n",
       "        vertical-align: middle;\n",
       "    }\n",
       "\n",
       "    .dataframe tbody tr th {\n",
       "        vertical-align: top;\n",
       "    }\n",
       "\n",
       "    .dataframe thead th {\n",
       "        text-align: right;\n",
       "    }\n",
       "</style>\n",
       "<table border=\"1\" class=\"dataframe\">\n",
       "  <thead>\n",
       "    <tr style=\"text-align: right;\">\n",
       "      <th></th>\n",
       "      <th>Name</th>\n",
       "      <th>Type</th>\n",
       "      <th>Area (m)</th>\n",
       "    </tr>\n",
       "  </thead>\n",
       "  <tbody>\n",
       "    <tr>\n",
       "      <th>0</th>\n",
       "      <td>Admiralty Park</td>\n",
       "      <td>Nature</td>\n",
       "      <td>270000.0</td>\n",
       "    </tr>\n",
       "    <tr>\n",
       "      <th>1</th>\n",
       "      <td>Ang Mo Kio Town Garden East</td>\n",
       "      <td>Community</td>\n",
       "      <td>49000.0</td>\n",
       "    </tr>\n",
       "    <tr>\n",
       "      <th>2</th>\n",
       "      <td>Ang Mo Kio Town Garden West</td>\n",
       "      <td>Community</td>\n",
       "      <td>206000.0</td>\n",
       "    </tr>\n",
       "    <tr>\n",
       "      <th>3</th>\n",
       "      <td>Bedok Town Park</td>\n",
       "      <td>Community</td>\n",
       "      <td>146000.0</td>\n",
       "    </tr>\n",
       "    <tr>\n",
       "      <th>4</th>\n",
       "      <td>Bishan-Ang Mo Kio Park</td>\n",
       "      <td>Community</td>\n",
       "      <td>620000.0</td>\n",
       "    </tr>\n",
       "  </tbody>\n",
       "</table>\n",
       "</div>"
      ],
      "text/plain": [
       "                          Name       Type  Area (m)\n",
       "0               Admiralty Park     Nature  270000.0\n",
       "1  Ang Mo Kio Town Garden East  Community   49000.0\n",
       "2  Ang Mo Kio Town Garden West  Community  206000.0\n",
       "3              Bedok Town Park  Community  146000.0\n",
       "4       Bishan-Ang Mo Kio Park  Community  620000.0"
      ]
     },
     "execution_count": 8,
     "metadata": {},
     "output_type": "execute_result"
    }
   ],
   "source": [
    "# Reading from the online source\n",
    "df = pd.read_html(requests.get('https://en.wikipedia.org/wiki/List_of_parks_in_Singapore').text)\n",
    "\n",
    "# Selecting the right data frame\n",
    "df = df[2]\n",
    "\n",
    "# Viewing the data frame\n",
    "df.head()"
   ]
  },
  {
   "cell_type": "markdown",
   "metadata": {
    "slideshow": {
     "slide_type": "slide"
    }
   },
   "source": [
    "## 4. Google Colab"
   ]
  },
  {
   "cell_type": "markdown",
   "metadata": {},
   "source": [
    "Similarly to how we can work with Google Docs, Google Slides or Google Sheets, there is on online Juyter Notebook collaboration tool available:\n",
    "\n",
    "https://colab.research.google.com/"
   ]
  }
 ],
 "metadata": {
  "celltoolbar": "Slideshow",
  "kernelspec": {
   "display_name": "Python 3.10.4 ('fyp')",
   "language": "python",
   "name": "python3"
  },
  "language_info": {
   "codemirror_mode": {
    "name": "ipython",
    "version": 3
   },
   "file_extension": ".py",
   "mimetype": "text/x-python",
   "name": "python",
   "nbconvert_exporter": "python",
   "pygments_lexer": "ipython3",
   "version": "3.10.4"
  },
  "vscode": {
   "interpreter": {
    "hash": "f022c8a1c44def47de7008d380642feb8955892faabd66836b7a9f2576a04bcf"
   }
  }
 },
 "nbformat": 4,
 "nbformat_minor": 2
}
