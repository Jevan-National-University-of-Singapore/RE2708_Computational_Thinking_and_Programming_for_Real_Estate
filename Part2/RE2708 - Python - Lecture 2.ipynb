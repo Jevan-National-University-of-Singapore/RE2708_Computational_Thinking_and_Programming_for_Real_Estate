{
 "cells": [
  {
   "cell_type": "markdown",
   "metadata": {
    "slideshow": {
     "slide_type": "slide"
    }
   },
   "source": [
    "<img align=left src=\"Data/NUSlogo.png\" width=125>\n",
    "<br><br>\n",
    "\n",
    "\n",
    "# RE2708 Lecture 2\n",
    "\n",
    "## The PANDAS Library: Working with data\n",
    "\n",
    "Dr. Cristian Badarinza"
   ]
  },
  {
   "cell_type": "markdown",
   "metadata": {
    "slideshow": {
     "slide_type": "slide"
    }
   },
   "source": [
    "## Table of Contents\n",
    "\n",
    "### Working with data\n",
    "\n",
    "1. Dictionaries\n",
    "1. Data frames\n",
    "1. Reading data frames from a CSV file\n",
    "1. Locating rows and columns\n",
    "1. Cleaning\n",
    "1. Grouping"
   ]
  },
  {
   "cell_type": "markdown",
   "metadata": {
    "slideshow": {
     "slide_type": "slide"
    }
   },
   "source": [
    "# 1. Dictionaries"
   ]
  },
  {
   "cell_type": "markdown",
   "metadata": {},
   "source": [
    "In addition to lists, Python also allows us to define a much more advanced data type, called a **DICTIONARY**, where don't need to use numbers as indexes, but we can use proper text labels. This makes it very easy to define for example a list of prices, without the need to remember the exact position of an item:"
   ]
  },
  {
   "cell_type": "code",
   "execution_count": null,
   "metadata": {},
   "outputs": [],
   "source": [
    "my_temps = {'John': 37, 'Anne': 23}\n",
    "\n",
    "my_temps['John']"
   ]
  },
  {
   "cell_type": "code",
   "execution_count": null,
   "metadata": {
    "slideshow": {
     "slide_type": "subslide"
    }
   },
   "outputs": [],
   "source": [
    "mylist = {\n",
    "    \"Apple\": 950,\n",
    "    \"Samsung\": 850,\n",
    "    \"Huawei\": 700,\n",
    "    \"Xiaomi\": 900,\n",
    "}\n",
    "print(mylist[\"Apple\"])"
   ]
  },
  {
   "cell_type": "markdown",
   "metadata": {
    "slideshow": {
     "slide_type": "subslide"
    }
   },
   "source": [
    "How about some actual data? Isn't this a quite elegant way to store data?"
   ]
  },
  {
   "cell_type": "code",
   "execution_count": null,
   "metadata": {},
   "outputs": [],
   "source": [
    "data = {'Phone type': ['iPhone 8','Galaxy S8','Redmi'],\n",
    "        'Year of release': [2018,2017,2019],\n",
    "        'Current price': ['$700','$800','$500'],\n",
    "        'Expected battery time': ['3 days','4 days','2 days']}"
   ]
  },
  {
   "cell_type": "markdown",
   "metadata": {
    "slideshow": {
     "slide_type": "slide"
    }
   },
   "source": [
    "## 2. Data frames\n",
    "\n",
    "First things first, we start by importing the Python Data Analysis Library (`PANDAS`):"
   ]
  },
  {
   "cell_type": "code",
   "execution_count": 2,
   "metadata": {},
   "outputs": [],
   "source": [
    "import pandas as pd"
   ]
  },
  {
   "cell_type": "markdown",
   "metadata": {
    "slideshow": {
     "slide_type": "-"
    }
   },
   "source": [
    "Remember our discussion about **objects** in Python. With the command above, we have just loaded the PANDAS library in an object called `pd`. You may wonder: Why should we bother doing that? Answer: Simply to make life easier."
   ]
  },
  {
   "cell_type": "markdown",
   "metadata": {
    "slideshow": {
     "slide_type": "subslide"
    }
   },
   "source": [
    "To facilitate the kinds of computations and analyses that we are after, PANDAS works with objects of a slightly modified dictionary type that it calls `DataFrames`.\n",
    "\n",
    "What is a **DataFrame** object? Remember the **dictionary** type we discussed last week? PANDAS stores data sets in a dictionary-type variable, and formats them nicely."
   ]
  },
  {
   "cell_type": "code",
   "execution_count": null,
   "metadata": {},
   "outputs": [],
   "source": [
    "df = pd.DataFrame(data={'Phone type': ['iPhone 8','Galaxy S8','Redmi'],\n",
    "                        'Year of release': [2018,2017,2019],\n",
    "                        'Current price': ['$700','$800','$500'],\n",
    "                        'Expected battery time': ['3 days','4 days','2 days']})"
   ]
  },
  {
   "cell_type": "code",
   "execution_count": null,
   "metadata": {},
   "outputs": [],
   "source": [
    "df"
   ]
  },
  {
   "cell_type": "markdown",
   "metadata": {
    "slideshow": {
     "slide_type": "subslide"
    }
   },
   "source": [
    "**Accessing single columns**"
   ]
  },
  {
   "cell_type": "code",
   "execution_count": null,
   "metadata": {},
   "outputs": [],
   "source": [
    "df['Phone type']"
   ]
  },
  {
   "cell_type": "markdown",
   "metadata": {
    "slideshow": {
     "slide_type": "slide"
    }
   },
   "source": [
    "## 3. Reading data from a CSV file\n",
    "\n",
    "Most often, data sets are stored by their respective providers in CSV files, i.e. files containing *comma-separated values*. \n",
    "\n",
    "To read the content of a CSV file, PANDAS offers us the function `read_csv()`.\n",
    "\n",
    "Let's use this function to load some data on HDB resale prices."
   ]
  },
  {
   "cell_type": "code",
   "execution_count": 3,
   "metadata": {
    "slideshow": {
     "slide_type": "-"
    }
   },
   "outputs": [],
   "source": [
    "df = pd.read_csv('Data/hdb-transactions-2022.csv')"
   ]
  },
  {
   "cell_type": "markdown",
   "metadata": {
    "slideshow": {
     "slide_type": "subslide"
    }
   },
   "source": [
    "### Viewing data frames"
   ]
  },
  {
   "cell_type": "markdown",
   "metadata": {},
   "source": [
    "The function `head()` shows the **first** 5 rows on the screen, nicely formatted:"
   ]
  },
  {
   "cell_type": "code",
   "execution_count": 6,
   "metadata": {},
   "outputs": [
    {
     "data": {
      "text/html": [
       "<div>\n",
       "<style scoped>\n",
       "    .dataframe tbody tr th:only-of-type {\n",
       "        vertical-align: middle;\n",
       "    }\n",
       "\n",
       "    .dataframe tbody tr th {\n",
       "        vertical-align: top;\n",
       "    }\n",
       "\n",
       "    .dataframe thead th {\n",
       "        text-align: right;\n",
       "    }\n",
       "</style>\n",
       "<table border=\"1\" class=\"dataframe\">\n",
       "  <thead>\n",
       "    <tr style=\"text-align: right;\">\n",
       "      <th></th>\n",
       "      <th>month</th>\n",
       "      <th>town</th>\n",
       "      <th>flat_type</th>\n",
       "      <th>floor_area_sqm</th>\n",
       "      <th>flat_model</th>\n",
       "      <th>resale_price</th>\n",
       "    </tr>\n",
       "  </thead>\n",
       "  <tbody>\n",
       "    <tr>\n",
       "      <th>0</th>\n",
       "      <td>2022-01</td>\n",
       "      <td>ANG MO KIO</td>\n",
       "      <td>2 ROOM</td>\n",
       "      <td>44</td>\n",
       "      <td>Improved</td>\n",
       "      <td>250000.0</td>\n",
       "    </tr>\n",
       "    <tr>\n",
       "      <th>1</th>\n",
       "      <td>2022-01</td>\n",
       "      <td>ANG MO KIO</td>\n",
       "      <td>3 ROOM</td>\n",
       "      <td>73</td>\n",
       "      <td>New Generation</td>\n",
       "      <td>300000.0</td>\n",
       "    </tr>\n",
       "    <tr>\n",
       "      <th>2</th>\n",
       "      <td>2022-01</td>\n",
       "      <td>ANG MO KIO</td>\n",
       "      <td>3 ROOM</td>\n",
       "      <td>73</td>\n",
       "      <td>New Generation</td>\n",
       "      <td>328000.0</td>\n",
       "    </tr>\n",
       "    <tr>\n",
       "      <th>3</th>\n",
       "      <td>2022-01</td>\n",
       "      <td>ANG MO KIO</td>\n",
       "      <td>3 ROOM</td>\n",
       "      <td>68</td>\n",
       "      <td>New Generation</td>\n",
       "      <td>300000.0</td>\n",
       "    </tr>\n",
       "    <tr>\n",
       "      <th>4</th>\n",
       "      <td>2022-01</td>\n",
       "      <td>ANG MO KIO</td>\n",
       "      <td>3 ROOM</td>\n",
       "      <td>68</td>\n",
       "      <td>New Generation</td>\n",
       "      <td>273000.0</td>\n",
       "    </tr>\n",
       "  </tbody>\n",
       "</table>\n",
       "</div>"
      ],
      "text/plain": [
       "     month        town flat_type  floor_area_sqm      flat_model  resale_price\n",
       "0  2022-01  ANG MO KIO    2 ROOM              44        Improved      250000.0\n",
       "1  2022-01  ANG MO KIO    3 ROOM              73  New Generation      300000.0\n",
       "2  2022-01  ANG MO KIO    3 ROOM              73  New Generation      328000.0\n",
       "3  2022-01  ANG MO KIO    3 ROOM              68  New Generation      300000.0\n",
       "4  2022-01  ANG MO KIO    3 ROOM              68  New Generation      273000.0"
      ]
     },
     "execution_count": 6,
     "metadata": {},
     "output_type": "execute_result"
    }
   ],
   "source": [
    "df.head()"
   ]
  },
  {
   "cell_type": "markdown",
   "metadata": {
    "slideshow": {
     "slide_type": "subslide"
    }
   },
   "source": [
    "The function `tail()` shows the **last** 5 rows on the screen:"
   ]
  },
  {
   "cell_type": "code",
   "execution_count": null,
   "metadata": {},
   "outputs": [],
   "source": [
    "df.tail()"
   ]
  },
  {
   "cell_type": "markdown",
   "metadata": {
    "slideshow": {
     "slide_type": "subslide"
    }
   },
   "source": [
    "### Summary statistics\n",
    "\n",
    "First of all, let's get some quick summary statistics for our data set.\n",
    "\n",
    "The function `describe()` shows us the number of observations, the mean of each variable, the minimum, maximum and other statistics:"
   ]
  },
  {
   "cell_type": "code",
   "execution_count": null,
   "metadata": {},
   "outputs": [],
   "source": [
    "df.describe()"
   ]
  },
  {
   "cell_type": "markdown",
   "metadata": {},
   "source": [
    "**Note**: The functions `round()` and `T` can be used to transpose the table and make it look nicer. Try it out in the cell above: `df.describe().round().T`"
   ]
  },
  {
   "cell_type": "markdown",
   "metadata": {
    "slideshow": {
     "slide_type": "subslide"
    }
   },
   "source": [
    "How about the other variables? Since they are not numerical, we cannot get a minimum and a maximum. Instead, we can ask Python to show us their unique values:"
   ]
  },
  {
   "cell_type": "code",
   "execution_count": null,
   "metadata": {
    "slideshow": {
     "slide_type": "-"
    }
   },
   "outputs": [],
   "source": [
    "print(df['town'].unique())"
   ]
  },
  {
   "cell_type": "markdown",
   "metadata": {
    "slideshow": {
     "slide_type": "slide"
    }
   },
   "source": [
    "## 4. Locating rows and columns"
   ]
  },
  {
   "cell_type": "markdown",
   "metadata": {
    "slideshow": {
     "slide_type": "-"
    }
   },
   "source": [
    "What if we want to locate certain rows and certain columns?"
   ]
  },
  {
   "cell_type": "code",
   "execution_count": 7,
   "metadata": {},
   "outputs": [
    {
     "data": {
      "text/html": [
       "<div>\n",
       "<style scoped>\n",
       "    .dataframe tbody tr th:only-of-type {\n",
       "        vertical-align: middle;\n",
       "    }\n",
       "\n",
       "    .dataframe tbody tr th {\n",
       "        vertical-align: top;\n",
       "    }\n",
       "\n",
       "    .dataframe thead th {\n",
       "        text-align: right;\n",
       "    }\n",
       "</style>\n",
       "<table border=\"1\" class=\"dataframe\">\n",
       "  <thead>\n",
       "    <tr style=\"text-align: right;\">\n",
       "      <th></th>\n",
       "      <th>town</th>\n",
       "      <th>resale_price</th>\n",
       "    </tr>\n",
       "  </thead>\n",
       "  <tbody>\n",
       "    <tr>\n",
       "      <th>1</th>\n",
       "      <td>ANG MO KIO</td>\n",
       "      <td>300000.0</td>\n",
       "    </tr>\n",
       "    <tr>\n",
       "      <th>2</th>\n",
       "      <td>ANG MO KIO</td>\n",
       "      <td>328000.0</td>\n",
       "    </tr>\n",
       "    <tr>\n",
       "      <th>3</th>\n",
       "      <td>ANG MO KIO</td>\n",
       "      <td>300000.0</td>\n",
       "    </tr>\n",
       "  </tbody>\n",
       "</table>\n",
       "</div>"
      ],
      "text/plain": [
       "         town  resale_price\n",
       "1  ANG MO KIO      300000.0\n",
       "2  ANG MO KIO      328000.0\n",
       "3  ANG MO KIO      300000.0"
      ]
     },
     "execution_count": 7,
     "metadata": {},
     "output_type": "execute_result"
    }
   ],
   "source": [
    "df.loc[[1,2,3],['town','resale_price']]"
   ]
  },
  {
   "cell_type": "markdown",
   "metadata": {
    "slideshow": {
     "slide_type": "subslide"
    }
   },
   "source": [
    "What if we want to select transactions that meet a certain condition?"
   ]
  },
  {
   "cell_type": "code",
   "execution_count": null,
   "metadata": {},
   "outputs": [],
   "source": [
    "df.loc[df['town']=='CLEMENTI',['town','resale_price']].describe()"
   ]
  },
  {
   "cell_type": "markdown",
   "metadata": {
    "slideshow": {
     "slide_type": "subslide"
    }
   },
   "source": [
    "What if we want to consider more than one town? Using the `isin()` method for filtering:"
   ]
  },
  {
   "cell_type": "code",
   "execution_count": null,
   "metadata": {},
   "outputs": [],
   "source": [
    "df.loc[df['town'].isin(['JURONG EAST', 'JURONG WEST']),['town','resale_price']].describe()"
   ]
  },
  {
   "cell_type": "markdown",
   "metadata": {
    "slideshow": {
     "slide_type": "slide"
    }
   },
   "source": [
    "## 5. Cleaning\n",
    "\n",
    "Publicly available data often contains outliers, missing observations, or it simply extends beyond what we need in our analysis."
   ]
  },
  {
   "cell_type": "markdown",
   "metadata": {},
   "source": [
    "If we simply want to drop missing observations, we have a simple function available:"
   ]
  },
  {
   "cell_type": "code",
   "execution_count": null,
   "metadata": {},
   "outputs": [],
   "source": [
    "df = df.dropna()"
   ]
  },
  {
   "cell_type": "markdown",
   "metadata": {
    "slideshow": {
     "slide_type": "subslide"
    }
   },
   "source": [
    "If we want to drop transactions where the price is obviously wrong, e.g. negative or zero, we use the locate (`loc`) function:"
   ]
  },
  {
   "cell_type": "code",
   "execution_count": null,
   "metadata": {},
   "outputs": [],
   "source": [
    "df = df.loc[df['resale_price']>0]\n",
    "df.describe()"
   ]
  },
  {
   "cell_type": "markdown",
   "metadata": {
    "slideshow": {
     "slide_type": "slide"
    }
   },
   "source": [
    "## 6. Grouping\n",
    "\n",
    "Grouping is by far the  most frequent operation that we want to do with data.\n",
    "\n",
    "The function that PANDAS offers to do this is called `groupby` and it is used together with functions such as `max` or `mean` or `count`:"
   ]
  },
  {
   "cell_type": "code",
   "execution_count": null,
   "metadata": {},
   "outputs": [],
   "source": [
    "df.groupby('town').mean()"
   ]
  },
  {
   "cell_type": "markdown",
   "metadata": {
    "slideshow": {
     "slide_type": "subslide"
    }
   },
   "source": [
    "What if we want to sort towns in increasing order of prices?"
   ]
  },
  {
   "cell_type": "code",
   "execution_count": 8,
   "metadata": {},
   "outputs": [
    {
     "data": {
      "text/html": [
       "<div>\n",
       "<style scoped>\n",
       "    .dataframe tbody tr th:only-of-type {\n",
       "        vertical-align: middle;\n",
       "    }\n",
       "\n",
       "    .dataframe tbody tr th {\n",
       "        vertical-align: top;\n",
       "    }\n",
       "\n",
       "    .dataframe thead th {\n",
       "        text-align: right;\n",
       "    }\n",
       "</style>\n",
       "<table border=\"1\" class=\"dataframe\">\n",
       "  <thead>\n",
       "    <tr style=\"text-align: right;\">\n",
       "      <th></th>\n",
       "      <th>floor_area_sqm</th>\n",
       "      <th>resale_price</th>\n",
       "    </tr>\n",
       "    <tr>\n",
       "      <th>town</th>\n",
       "      <th></th>\n",
       "      <th></th>\n",
       "    </tr>\n",
       "  </thead>\n",
       "  <tbody>\n",
       "    <tr>\n",
       "      <th>WOODLANDS</th>\n",
       "      <td>102.289141</td>\n",
       "      <td>351016.347661</td>\n",
       "    </tr>\n",
       "    <tr>\n",
       "      <th>JURONG WEST</th>\n",
       "      <td>98.042530</td>\n",
       "      <td>366978.926936</td>\n",
       "    </tr>\n",
       "    <tr>\n",
       "      <th>ANG MO KIO</th>\n",
       "      <td>82.427632</td>\n",
       "      <td>387633.717105</td>\n",
       "    </tr>\n",
       "    <tr>\n",
       "      <th>JURONG EAST</th>\n",
       "      <td>92.916955</td>\n",
       "      <td>406199.304498</td>\n",
       "    </tr>\n",
       "    <tr>\n",
       "      <th>PUNGGOL</th>\n",
       "      <td>95.924584</td>\n",
       "      <td>442388.791381</td>\n",
       "    </tr>\n",
       "    <tr>\n",
       "      <th>TAMPINES</th>\n",
       "      <td>104.325714</td>\n",
       "      <td>449123.000000</td>\n",
       "    </tr>\n",
       "    <tr>\n",
       "      <th>CLEMENTI</th>\n",
       "      <td>84.413333</td>\n",
       "      <td>466452.753333</td>\n",
       "    </tr>\n",
       "    <tr>\n",
       "      <th>CENTRAL AREA</th>\n",
       "      <td>76.039474</td>\n",
       "      <td>468907.894737</td>\n",
       "    </tr>\n",
       "    <tr>\n",
       "      <th>GEYLANG</th>\n",
       "      <td>87.885246</td>\n",
       "      <td>494735.803279</td>\n",
       "    </tr>\n",
       "  </tbody>\n",
       "</table>\n",
       "</div>"
      ],
      "text/plain": [
       "              floor_area_sqm   resale_price\n",
       "town                                       \n",
       "WOODLANDS         102.289141  351016.347661\n",
       "JURONG WEST        98.042530  366978.926936\n",
       "ANG MO KIO         82.427632  387633.717105\n",
       "JURONG EAST        92.916955  406199.304498\n",
       "PUNGGOL            95.924584  442388.791381\n",
       "TAMPINES          104.325714  449123.000000\n",
       "CLEMENTI           84.413333  466452.753333\n",
       "CENTRAL AREA       76.039474  468907.894737\n",
       "GEYLANG            87.885246  494735.803279"
      ]
     },
     "execution_count": 8,
     "metadata": {},
     "output_type": "execute_result"
    }
   ],
   "source": [
    "df.groupby('town').mean().sort_values(by='resale_price')"
   ]
  },
  {
   "cell_type": "markdown",
   "metadata": {},
   "source": [
    "### THE END"
   ]
  }
 ],
 "metadata": {
  "celltoolbar": "Slideshow",
  "kernelspec": {
   "display_name": "Python 3.7.13 ('feedback')",
   "language": "python",
   "name": "python3"
  },
  "language_info": {
   "codemirror_mode": {
    "name": "ipython",
    "version": 3
   },
   "file_extension": ".py",
   "mimetype": "text/x-python",
   "name": "python",
   "nbconvert_exporter": "python",
   "pygments_lexer": "ipython3",
   "version": "3.7.13"
  },
  "rise": {
   "height": "90%",
   "width": "90%"
  },
  "vscode": {
   "interpreter": {
    "hash": "32acb760d0a1822f98d2fad14066503073e61cd7024719ba5a5c82298a76b28f"
   }
  }
 },
 "nbformat": 4,
 "nbformat_minor": 1
}
